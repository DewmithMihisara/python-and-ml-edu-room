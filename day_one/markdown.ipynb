{
 "cells": [
  {
   "cell_type": "markdown",
   "id": "a2cda4df-17cb-4359-8246-41c555c58854",
   "metadata": {},
   "source": [
    "# Markdown in Jupyter Notebook"
   ]
  },
  {
   "cell_type": "markdown",
   "id": "970cae7c-191f-4c8a-b2cd-c10245d516ec",
   "metadata": {},
   "source": [
    "### Headers"
   ]
  },
  {
   "cell_type": "markdown",
   "id": "3483b42d-f70f-4b66-bf0b-30c12a30a8fa",
   "metadata": {},
   "source": [
    "# header 1, titles\n",
    "## header 2, major headings\n",
    "### header 3, sub headings\n",
    "#### header 4\n",
    "##### header 5\n",
    "###### header 6"
   ]
  },
  {
   "cell_type": "markdown",
   "id": "564dde93-4348-4b11-9f4b-1d2e88ea89dd",
   "metadata": {},
   "source": [
    "### Blockquote"
   ]
  },
  {
   "cell_type": "markdown",
   "id": "55fa1271-20f1-4594-8c32-23233117aa16",
   "metadata": {},
   "source": [
    ">blockquote<Br>\n",
    "\n",
    "or\n",
    "\n",
    "<blockquote>This is good</blockquote>"
   ]
  },
  {
   "cell_type": "markdown",
   "id": "241b9886-8483-4dee-bd6a-a899cc112855",
   "metadata": {},
   "source": [
    "### Bolt"
   ]
  },
  {
   "cell_type": "markdown",
   "id": "9cee220b-ec65-4aa6-8009-8e3312cbac4c",
   "metadata": {},
   "source": [
    "<b>This is bolt</b>\n",
    "\n",
    "or\n",
    "\n",
    "**Bold text**"
   ]
  },
  {
   "cell_type": "markdown",
   "id": "1ef848a4-ff6a-4636-b7b5-cb2d1d19d50f",
   "metadata": {},
   "source": [
    "### underline"
   ]
  },
  {
   "cell_type": "markdown",
   "id": "ae5d9247-bc81-4c92-9bb9-ef874eff2d00",
   "metadata": {},
   "source": [
    "<u>this one is underline</u>"
   ]
  },
  {
   "cell_type": "markdown",
   "id": "7eac906b-027b-4f0e-b1e7-af7333a28f00",
   "metadata": {},
   "source": [
    "### Italic"
   ]
  },
  {
   "cell_type": "markdown",
   "id": "e4f27e27-b50d-424f-9fe5-41900f52a264",
   "metadata": {},
   "source": [
    "<i>This is italic</i>\n",
    "\n",
    "or\n",
    "\n",
    "*This is italic <Br>*"
   ]
  },
  {
   "cell_type": "markdown",
   "id": "4f84c7f2-cd24-4332-a173-ded4148ee40b",
   "metadata": {},
   "source": [
    "### Lists"
   ]
  },
  {
   "cell_type": "markdown",
   "id": "a591b599-dc13-4e06-bffc-10edd9110389",
   "metadata": {},
   "source": [
    "<ol>\n",
    "    <li>Fish</li>\n",
    "    <li>dog</li>\n",
    "</ol>"
   ]
  },
  {
   "cell_type": "markdown",
   "id": "bce97d7d-11a8-4520-a625-204ad0b85788",
   "metadata": {},
   "source": [
    "### Tables"
   ]
  },
  {
   "cell_type": "markdown",
   "id": "bd1ffc26-0c40-4e29-b33e-3cdeefb53c37",
   "metadata": {},
   "source": [
    "| a | b |\n",
    "| - | - |\n",
    "| 1 | 2 |\n",
    "| 3 | 4 |"
   ]
  },
  {
   "cell_type": "markdown",
   "id": "b96834e5-0ed1-4f0c-bf96-69664e385cfa",
   "metadata": {},
   "source": [
    "### horisontal line brake"
   ]
  },
  {
   "cell_type": "markdown",
   "id": "e097d9b0-6221-41ad-927b-4a7e4f8bd0bd",
   "metadata": {},
   "source": [
    "<hr>\n",
    "\n",
    "---"
   ]
  },
  {
   "cell_type": "markdown",
   "id": "c71fad51-0bac-44f6-a221-7101a107b720",
   "metadata": {},
   "source": [
    "### Q1 - display a table in markdown to show student name age and city show 5 example students"
   ]
  },
  {
   "cell_type": "markdown",
   "id": "175ad495-99aa-4b8d-b641-8b0ac8bc1385",
   "metadata": {},
   "source": [
    "| name | age | city |\n",
    "| ---- | --- | ---- |\n",
    "| amal | 10 | galle |\n",
    "| nimal | 12 | matara |\n",
    "| kamal | 9 | colombo |\n",
    "| sunil | 10 | kalutara |\n",
    "| piyumal | 20 | vavuniya |"
   ]
  }
 ],
 "metadata": {
  "kernelspec": {
   "display_name": "Python [conda env:base] *",
   "language": "python",
   "name": "conda-base-py"
  },
  "language_info": {
   "codemirror_mode": {
    "name": "ipython",
    "version": 3
   },
   "file_extension": ".py",
   "mimetype": "text/x-python",
   "name": "python",
   "nbconvert_exporter": "python",
   "pygments_lexer": "ipython3",
   "version": "3.12.7"
  }
 },
 "nbformat": 4,
 "nbformat_minor": 5
}
