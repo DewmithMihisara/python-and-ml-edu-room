{
 "cells": [
  {
   "cell_type": "markdown",
   "id": "86b984d7-bd8a-429e-a8dc-3e78e7d0af39",
   "metadata": {},
   "source": [
    "# Python programming language"
   ]
  },
  {
   "cell_type": "markdown",
   "id": "588f747a-b7ae-41bf-8a9a-4002f2272f0d",
   "metadata": {},
   "source": [
    "## Comments"
   ]
  },
  {
   "cell_type": "markdown",
   "id": "f106b981-411c-480e-8732-2c1c0749d77f",
   "metadata": {},
   "source": [
    "#### Single line comments"
   ]
  },
  {
   "cell_type": "code",
   "execution_count": null,
   "id": "e4a81db0-e304-4340-8eeb-4d2fc6453933",
   "metadata": {},
   "outputs": [],
   "source": [
    "# This is the single line comments"
   ]
  },
  {
   "cell_type": "markdown",
   "id": "173d093a-834b-489d-8217-3485c5c6e1db",
   "metadata": {},
   "source": [
    "#### Multiline comments"
   ]
  },
  {
   "cell_type": "code",
   "execution_count": null,
   "id": "01116e1a-8807-4982-8e7c-450bd3867c47",
   "metadata": {},
   "outputs": [],
   "source": [
    "\"\"\" this is multilie comments.\n",
    "can span multiple lines. \"\"\""
   ]
  },
  {
   "cell_type": "markdown",
   "id": "78eea83a-a19d-4750-89e7-8c3e37b91209",
   "metadata": {},
   "source": [
    "## Indentation"
   ]
  },
  {
   "cell_type": "markdown",
   "id": "fd05810c-1353-4331-83df-78f57a8915a4",
   "metadata": {},
   "source": [
    "Incorrect Syntaxt will lead to ``` invalied syntaxt"
   ]
  },
  {
   "cell_type": "code",
   "execution_count": 10,
   "id": "3365f4f8-e813-4b1d-aa70-0bae4ef6e926",
   "metadata": {},
   "outputs": [
    {
     "ename": "SyntaxError",
     "evalue": "invalid syntax (3197693449.py, line 1)",
     "output_type": "error",
     "traceback": [
      "\u001b[0;36m  Cell \u001b[0;32mIn[10], line 1\u001b[0;36m\u001b[0m\n\u001b[0;31m    python if x > 0:print(\"x is positive\") else: print(\"x is not positive\")\u001b[0m\n\u001b[0m                   ^\u001b[0m\n\u001b[0;31mSyntaxError\u001b[0m\u001b[0;31m:\u001b[0m invalid syntax\n"
     ]
    }
   ],
   "source": [
    "python if x > 0:print(\"x is positive\") else: print(\"x is not positive\")"
   ]
  },
  {
   "cell_type": "markdown",
   "id": "f34b540d-0c77-4bc8-ae2f-aba8f16f4f51",
   "metadata": {},
   "source": [
    "## Case Sensivity"
   ]
  },
  {
   "cell_type": "code",
   "execution_count": 8,
   "id": "52c71fd7-1a74-4ea5-a028-1ac348b4139f",
   "metadata": {},
   "outputs": [
    {
     "name": "stdout",
     "output_type": "stream",
     "text": [
      "1\n"
     ]
    }
   ],
   "source": [
    "myVariable = 1\n",
    "myvariable = 2\n",
    "\n",
    "print(myVariable)"
   ]
  },
  {
   "cell_type": "markdown",
   "id": "3ea28fac-c9d7-4457-8861-730063e45ec2",
   "metadata": {},
   "source": [
    "## dynamic typing"
   ]
  },
  {
   "cell_type": "code",
   "execution_count": 17,
   "id": "d724eaa3-2e40-4711-b3f1-fad5a4dace4a",
   "metadata": {},
   "outputs": [
    {
     "data": {
      "text/plain": [
       "' python\\nx = 10 # x is an integer\\nx = \"hello\"\\n# x is now a string '"
      ]
     },
     "execution_count": 17,
     "metadata": {},
     "output_type": "execute_result"
    }
   ],
   "source": [
    "''' python\n",
    "x = 10 # x is an integer\n",
    "x = \"hello\"\n",
    "# x is now a string '''"
   ]
  },
  {
   "cell_type": "code",
   "execution_count": 13,
   "id": "7418fe39-9c07-428f-811f-c9a6f2891c17",
   "metadata": {},
   "outputs": [
    {
     "name": "stdout",
     "output_type": "stream",
     "text": [
      "10\n",
      "hello\n"
     ]
    }
   ],
   "source": [
    "x = 10 \n",
    "print(x)\n",
    "x = \"hello\"\n",
    "print(x)"
   ]
  },
  {
   "cell_type": "markdown",
   "id": "c362b2a5-96a7-49c7-bfaa-7912657ed4b4",
   "metadata": {},
   "source": [
    "## Diclaring variables"
   ]
  },
  {
   "cell_type": "markdown",
   "id": "c864a895-8ce8-444e-a1c7-0ccd3279922f",
   "metadata": {},
   "source": [
    "#### simple assignment"
   ]
  },
  {
   "cell_type": "code",
   "execution_count": 20,
   "id": "36a380a4-9ec9-403c-ab1f-74ca3ec0c515",
   "metadata": {},
   "outputs": [
    {
     "name": "stdout",
     "output_type": "stream",
     "text": [
      "5 3.14 Amal True\n"
     ]
    }
   ],
   "source": [
    "x = 5                     # integer\n",
    "y = 3.14                  # float\n",
    "name = \"Amal\"             # string\n",
    "is_student = True         # boolean\n",
    "\n",
    "print(x,y,name,is_student)"
   ]
  },
  {
   "cell_type": "markdown",
   "id": "ac8c35d5-07cf-48f1-a6f3-f1b2252f9064",
   "metadata": {},
   "source": [
    "#### multiple assignment"
   ]
  },
  {
   "cell_type": "code",
   "execution_count": 23,
   "id": "2aca23cd-857a-487a-8306-c4df1bf9f599",
   "metadata": {},
   "outputs": [
    {
     "name": "stdout",
     "output_type": "stream",
     "text": [
      "10 20 30\n"
     ]
    }
   ],
   "source": [
    "x, y, z = 10,20,30\n",
    "print(x,y,z)"
   ]
  },
  {
   "cell_type": "markdown",
   "id": "21f4d8ac-a919-4a65-aa0f-1cf2260e6962",
   "metadata": {},
   "source": [
    "#### numbers"
   ]
  },
  {
   "cell_type": "code",
   "execution_count": 25,
   "id": "e64e7e29-270a-42ac-8ec7-bfd06bd666a6",
   "metadata": {},
   "outputs": [
    {
     "name": "stdout",
     "output_type": "stream",
     "text": [
      "10 3.14 (2+3j)\n"
     ]
    }
   ],
   "source": [
    "num1 = 10            #integer\n",
    "num2 = 3.14          #float\n",
    "num3 = 2+3j          #complex number\n",
    "print(num1,num2,num3)"
   ]
  },
  {
   "cell_type": "markdown",
   "id": "4df70aa9-dab1-40b3-a761-e0d28e73dc31",
   "metadata": {},
   "source": [
    "#### strings"
   ]
  },
  {
   "cell_type": "code",
   "execution_count": 31,
   "id": "9f45283b-1f39-4f60-96e0-f037f48c0951",
   "metadata": {},
   "outputs": [
    {
     "name": "stdout",
     "output_type": "stream",
     "text": [
      "Hello , Dewmith!\n"
     ]
    }
   ],
   "source": [
    "greeting = \"Hello\"\n",
    "name = \"World\"\n",
    "massage = greeting + \" , \" + name + \"!\"\n",
    "print (massage)"
   ]
  },
  {
   "cell_type": "markdown",
   "id": "e7d8d1d2-60c9-4066-8fe3-1b1957030f5b",
   "metadata": {},
   "source": [
    "#### list"
   ]
  },
  {
   "cell_type": "code",
   "execution_count": 33,
   "id": "49eb23f1-565d-4573-a1f0-1ef23cdb19fe",
   "metadata": {},
   "outputs": [
    {
     "name": "stdout",
     "output_type": "stream",
     "text": [
      "['apple', 'banana', 'mango']\n",
      "apple\n"
     ]
    }
   ],
   "source": [
    "fruits = [\"apple\" , \"banana\", \"mango\"]\n",
    "print(fruits)\n",
    "print(fruits[0])"
   ]
  },
  {
   "cell_type": "markdown",
   "id": "7eafb1aa-fbb9-4d9b-8ec7-f4c3e390c852",
   "metadata": {},
   "source": [
    "### Tupils"
   ]
  },
  {
   "cell_type": "code",
   "execution_count": 35,
   "id": "69d082ab-3b41-4bea-8e5b-7b29ca38b2bb",
   "metadata": {},
   "outputs": [
    {
     "name": "stdout",
     "output_type": "stream",
     "text": [
      "('apple', 'banana', 'mango')\n"
     ]
    }
   ],
   "source": [
    "thistupils = (\"apple\" , \"banana\", \"mango\")\n",
    "print(thistupils)"
   ]
  },
  {
   "cell_type": "code",
   "execution_count": 37,
   "id": "33ecf8d9-7667-4819-b9c4-fa3bb6b7a012",
   "metadata": {},
   "outputs": [
    {
     "name": "stdout",
     "output_type": "stream",
     "text": [
      "apple\n"
     ]
    }
   ],
   "source": [
    "# Acsess\n",
    "thistupils = (\"apple\" , \"banana\", \"mango\")\n",
    "print(thistupils[0])"
   ]
  },
  {
   "cell_type": "code",
   "execution_count": 39,
   "id": "6e7400a8-98b5-4632-ac09-43d2300c6624",
   "metadata": {},
   "outputs": [
    {
     "name": "stdout",
     "output_type": "stream",
     "text": [
      "('apple', 'banana', 'mango', 'orange')\n"
     ]
    }
   ],
   "source": [
    "# add\n",
    "thistupils = (\"apple\" , \"banana\", \"mango\")\n",
    "y = list(thistupils)\n",
    "y.append(\"orange\")\n",
    "thistupils = tuple(y)\n",
    "print(thistupils)"
   ]
  },
  {
   "cell_type": "code",
   "execution_count": 41,
   "id": "7af3c7cd-02a4-456b-aeff-ea8e3c9db514",
   "metadata": {},
   "outputs": [
    {
     "name": "stdout",
     "output_type": "stream",
     "text": [
      "('apple', 'orange', 'mango')\n"
     ]
    }
   ],
   "source": [
    "# update\n",
    "x = (\"apple\" , \"banana\", \"mango\")\n",
    "y = list(x)\n",
    "y[1]=\"orange\"\n",
    "x = tuple(y)\n",
    "print(x)"
   ]
  },
  {
   "cell_type": "markdown",
   "id": "d915f4f8-ba76-4e98-8b9a-0b1a506660e4",
   "metadata": {},
   "source": [
    "### Sets"
   ]
  },
  {
   "cell_type": "code",
   "execution_count": 44,
   "id": "ecdb59e9-929b-490a-904f-78fcd3d2c69c",
   "metadata": {},
   "outputs": [
    {
     "name": "stdout",
     "output_type": "stream",
     "text": [
      "{'apple', 'mango', 'banana'}\n"
     ]
    }
   ],
   "source": [
    "thisset = {\"apple\" , \"banana\", \"mango\"}\n",
    "print(thisset)"
   ]
  },
  {
   "cell_type": "code",
   "execution_count": null,
   "id": "d743273d-c2db-435a-8d5f-712898b51c9f",
   "metadata": {},
   "outputs": [],
   "source": [
    "# Acsess (single values)\n",
    "print(thisset[1])\n",
    "\n",
    "# when acsess in sets we must need to add loop. this code might bug\n"
   ]
  },
  {
   "cell_type": "code",
   "execution_count": 46,
   "id": "a6ce7dfc-e454-433b-a3de-d8ef515208ad",
   "metadata": {},
   "outputs": [
    {
     "name": "stdout",
     "output_type": "stream",
     "text": [
      "apple\n",
      "mango\n",
      "banana\n"
     ]
    }
   ],
   "source": [
    "thisset = {\"apple\" , \"banana\", \"mango\"}\n",
    "for x in thisset:\n",
    "    print(x)"
   ]
  },
  {
   "cell_type": "markdown",
   "id": "647b8085-a3ea-4cff-ba92-d59ab64adf44",
   "metadata": {},
   "source": [
    "##### validation in sets"
   ]
  },
  {
   "cell_type": "code",
   "execution_count": 48,
   "id": "1387f8b9-4743-4a8e-bba2-fae1ff0d3ac8",
   "metadata": {},
   "outputs": [
    {
     "name": "stdout",
     "output_type": "stream",
     "text": [
      "True\n"
     ]
    }
   ],
   "source": [
    "thisset = {\"apple\" , \"banana\", \"mango\"}\n",
    "print (\"apple\" in thisset)"
   ]
  },
  {
   "cell_type": "code",
   "execution_count": 50,
   "id": "f29bab03-33ea-499a-a51f-cec662fdf62a",
   "metadata": {},
   "outputs": [
    {
     "name": "stdout",
     "output_type": "stream",
     "text": [
      "False\n"
     ]
    }
   ],
   "source": [
    "thisset = {\"apple\" , \"banana\", \"mango\"}\n",
    "print (\"apple\" not in thisset)"
   ]
  },
  {
   "cell_type": "code",
   "execution_count": 52,
   "id": "253d814b-4a9a-498b-bd0c-6b642a6509be",
   "metadata": {},
   "outputs": [
    {
     "name": "stdout",
     "output_type": "stream",
     "text": [
      "{'orange', 'apple', 'mango', 'banana'}\n"
     ]
    }
   ],
   "source": [
    "# add\n",
    "thisset = {\"apple\" , \"banana\", \"mango\"}\n",
    "thisset.add(\"orange\")\n",
    "print (thisset)"
   ]
  },
  {
   "cell_type": "code",
   "execution_count": 59,
   "id": "7bb8b0b4-cee3-4efb-8ce2-460bbe7eb2c7",
   "metadata": {},
   "outputs": [
    {
     "name": "stdout",
     "output_type": "stream",
     "text": [
      "{'Orange', 'wood-apple', 'apple', 'chery', 'banana', 'mango'}\n"
     ]
    }
   ],
   "source": [
    "thisset = {\"apple\" , \"banana\", \"mango\"}\n",
    "outher = {\"wood-apple\", \"chery\", \"Orange\"}\n",
    "thisset.update(outher)\n",
    "print(thisset)"
   ]
  },
  {
   "cell_type": "code",
   "execution_count": 63,
   "id": "b002ce05-b9b2-43c5-bada-cbaec01a6865",
   "metadata": {},
   "outputs": [
    {
     "name": "stdout",
     "output_type": "stream",
     "text": [
      "{'mango', 'banana'}\n"
     ]
    }
   ],
   "source": [
    "# remove\n",
    "thisset = {\"apple\" , \"banana\", \"mango\"}\n",
    "thisset.remove(\"apple\")\n",
    "print (thisset)"
   ]
  },
  {
   "cell_type": "code",
   "execution_count": 67,
   "id": "4f6a5558-2b48-45f8-909b-47bf79d05ef1",
   "metadata": {},
   "outputs": [
    {
     "name": "stdout",
     "output_type": "stream",
     "text": [
      "{'apple', 'banana'}\n"
     ]
    }
   ],
   "source": [
    "# remove using discard method\n",
    "thisset = {\"apple\" , \"banana\", \"mango\"}\n",
    "thisset.discard(\"mango\")\n",
    "print (thisset)"
   ]
  },
  {
   "cell_type": "markdown",
   "id": "5b80514f-e918-4576-b86a-1f5ca3909268",
   "metadata": {},
   "source": [
    "### dictionaries "
   ]
  },
  {
   "cell_type": "code",
   "execution_count": 69,
   "id": "fe96e270-d93c-4d72-8847-b7d0a6b28b26",
   "metadata": {},
   "outputs": [
    {
     "name": "stdout",
     "output_type": "stream",
     "text": [
      "{'brand': 'Ford', 'model': 'mustang', 'year': 1969}\n"
     ]
    }
   ],
   "source": [
    "thisdict = {\n",
    "    \"brand\" : \"Ford\",\n",
    "    \"model\" : \"mustang\",\n",
    "    \"year\" : 1969\n",
    "}\n",
    "\n",
    "print(thisdict)"
   ]
  },
  {
   "cell_type": "code",
   "execution_count": 77,
   "id": "a497ee8d-c1c5-4362-9fae-7f51e015926e",
   "metadata": {},
   "outputs": [
    {
     "name": "stdout",
     "output_type": "stream",
     "text": [
      "Ford\n"
     ]
    }
   ],
   "source": [
    "# access \n",
    "\n",
    "thisdict = {\n",
    "    \"brand\" : \"Ford\",\n",
    "    \"model\" : \"mustang\",\n",
    "    \"year\" : 1969\n",
    "}\n",
    "\n",
    "print(thisdict[\"brand\"]) # can't access using index (ex : 0, 1)"
   ]
  },
  {
   "cell_type": "code",
   "execution_count": 79,
   "id": "60bb8eb1-3c1e-4c2f-86bd-dadff4c1ceb7",
   "metadata": {},
   "outputs": [
    {
     "name": "stdout",
     "output_type": "stream",
     "text": [
      "mustang\n"
     ]
    }
   ],
   "source": [
    "# access  with get\n",
    "\n",
    "thisdict = {\n",
    "    \"brand\" : \"Ford\",\n",
    "    \"model\" : \"mustang\",\n",
    "    \"year\" : 1969\n",
    "}\n",
    "\n",
    "print(thisdict.get(\"model\"))"
   ]
  },
  {
   "cell_type": "code",
   "execution_count": 83,
   "id": "7bc52538-45d5-4e3b-a730-3cf0f3cd7761",
   "metadata": {},
   "outputs": [
    {
     "name": "stdout",
     "output_type": "stream",
     "text": [
      "2020\n"
     ]
    }
   ],
   "source": [
    "# change\n",
    "\n",
    "thisdict = {\n",
    "    \"brand\" : \"Ford\",\n",
    "    \"model\" : \"mustang\",\n",
    "    \"year\" : 1969\n",
    "}\n",
    "\n",
    "thisdict[\"year\"] = 2020\n",
    "\n",
    "print(thisdict.get(\"year\"))"
   ]
  },
  {
   "cell_type": "code",
   "execution_count": 85,
   "id": "2e59df66-0efd-4d1d-a975-1b2c54816596",
   "metadata": {},
   "outputs": [
    {
     "name": "stdout",
     "output_type": "stream",
     "text": [
      "2015\n"
     ]
    }
   ],
   "source": [
    "# change with update\n",
    "\n",
    "thisdict = {\n",
    "    \"brand\" : \"Ford\",\n",
    "    \"model\" : \"mustang\",\n",
    "    \"year\" : 1969\n",
    "}\n",
    "\n",
    "thisdict.update ({\"year\" : 2015})\n",
    "\n",
    "print(thisdict.get(\"year\"))"
   ]
  },
  {
   "cell_type": "code",
   "execution_count": 87,
   "id": "19761d37-d5b6-48ff-b2c9-daf00000cee4",
   "metadata": {},
   "outputs": [
    {
     "name": "stdout",
     "output_type": "stream",
     "text": [
      "{'brand': 'Ford', 'model': 'mustang', 'year': 1969, 'colour': 'black'}\n"
     ]
    }
   ],
   "source": [
    "# add\n",
    "\n",
    "thisdict = {\n",
    "    \"brand\" : \"Ford\",\n",
    "    \"model\" : \"mustang\",\n",
    "    \"year\" : 1969\n",
    "}\n",
    "\n",
    "thisdict[\"colour\"] = \"black\"\n",
    "\n",
    "print(thisdict)"
   ]
  },
  {
   "cell_type": "code",
   "execution_count": 91,
   "id": "58e276a5-7606-4ed1-a3b2-a89864723363",
   "metadata": {},
   "outputs": [
    {
     "name": "stdout",
     "output_type": "stream",
     "text": [
      "{'brand': 'Ford', 'model': 'mustang', 'year': 1969, 'colour': 'black'}\n"
     ]
    }
   ],
   "source": [
    "# add with update\n",
    "\n",
    "thisdict = {\n",
    "    \"brand\" : \"Ford\",\n",
    "    \"model\" : \"mustang\",\n",
    "    \"year\" : 1969\n",
    "}\n",
    "\n",
    "thisdict.update({\"colour\" : \"black\"})\n",
    "\n",
    "print(thisdict)"
   ]
  },
  {
   "cell_type": "code",
   "execution_count": 95,
   "id": "8400afa6-3c01-4259-bd11-3d763ec2c116",
   "metadata": {},
   "outputs": [],
   "source": [
    "# remove\n",
    "\n",
    "thisdict = {\n",
    "    \"brand\" : \"Ford\",\n",
    "    \"model\" : \"mustang\",\n",
    "    \"year\" : 1969\n",
    "}\n",
    "\n",
    "thisdict.pop(\"brand\")\n",
    "\n",
    "print(thisdict)"
   ]
  },
  {
   "cell_type": "code",
   "execution_count": 97,
   "id": "2d9f627a-ab6a-4baf-b23f-800a4251b7b0",
   "metadata": {},
   "outputs": [
    {
     "ename": "NameError",
     "evalue": "name 'thisdict' is not defined",
     "output_type": "error",
     "traceback": [
      "\u001b[0;31m---------------------------------------------------------------------------\u001b[0m",
      "\u001b[0;31mNameError\u001b[0m                                 Traceback (most recent call last)",
      "Cell \u001b[0;32mIn[97], line 11\u001b[0m\n\u001b[1;32m      3\u001b[0m thisdict \u001b[38;5;241m=\u001b[39m {\n\u001b[1;32m      4\u001b[0m     \u001b[38;5;124m\"\u001b[39m\u001b[38;5;124mbrand\u001b[39m\u001b[38;5;124m\"\u001b[39m : \u001b[38;5;124m\"\u001b[39m\u001b[38;5;124mFord\u001b[39m\u001b[38;5;124m\"\u001b[39m,\n\u001b[1;32m      5\u001b[0m     \u001b[38;5;124m\"\u001b[39m\u001b[38;5;124mmodel\u001b[39m\u001b[38;5;124m\"\u001b[39m : \u001b[38;5;124m\"\u001b[39m\u001b[38;5;124mmustang\u001b[39m\u001b[38;5;124m\"\u001b[39m,\n\u001b[1;32m      6\u001b[0m     \u001b[38;5;124m\"\u001b[39m\u001b[38;5;124myear\u001b[39m\u001b[38;5;124m\"\u001b[39m : \u001b[38;5;241m1969\u001b[39m\n\u001b[1;32m      7\u001b[0m }\n\u001b[1;32m      9\u001b[0m \u001b[38;5;28;01mdel\u001b[39;00m thisdict\n\u001b[0;32m---> 11\u001b[0m \u001b[38;5;28mprint\u001b[39m(thisdict)\n",
      "\u001b[0;31mNameError\u001b[0m: name 'thisdict' is not defined"
     ]
    }
   ],
   "source": [
    "# remove from del\n",
    "\n",
    "thisdict = {\n",
    "    \"brand\" : \"Ford\",\n",
    "    \"model\" : \"mustang\",\n",
    "    \"year\" : 1969\n",
    "}\n",
    "\n",
    "del thisdict\n",
    "\n",
    "print(thisdict) # this will cause an error becouse \"thisdict\" no longer exists."
   ]
  },
  {
   "cell_type": "markdown",
   "id": "5f346345-d5dc-427b-a5b2-12687d2d9a5b",
   "metadata": {},
   "source": [
    "### In class task"
   ]
  },
  {
   "cell_type": "code",
   "execution_count": 108,
   "id": "0f85d4d3-2821-4fba-baf2-949896020312",
   "metadata": {},
   "outputs": [
    {
     "name": "stdout",
     "output_type": "stream",
     "text": [
      "You are a adult\n"
     ]
    }
   ],
   "source": [
    "#Q1\n",
    "\n",
    "age = 20\n",
    "if age >= 18:\n",
    "    print(\"You are a adult\")\n",
    "else:\n",
    "    print(\"you are minor\")\n",
    "    "
   ]
  },
  {
   "cell_type": "code",
   "execution_count": 116,
   "id": "0f0ca973-82f7-4e3f-be95-d38da0dd9809",
   "metadata": {},
   "outputs": [
    {
     "name": "stdout",
     "output_type": "stream",
     "text": [
      "sunil 20 {'red', 'black'}\n"
     ]
    }
   ],
   "source": [
    "#Q2\n",
    "\n",
    "name = \"sunil\"\n",
    "birthYear = 2005\n",
    "favColours = {\"red\", \"black\"}\n",
    "\n",
    "age = 2025 - birthYear\n",
    "\n",
    "print(name, age, favColours)\n"
   ]
  },
  {
   "cell_type": "markdown",
   "id": "a1088e0d-7308-4d02-a19d-f9919e41041d",
   "metadata": {},
   "source": [
    "### arithmatic operators"
   ]
  },
  {
   "cell_type": "code",
   "execution_count": 118,
   "id": "c781451a-cd3c-47c1-b3ef-55cad3cf74b5",
   "metadata": {},
   "outputs": [
    {
     "name": "stdout",
     "output_type": "stream",
     "text": [
      "13\n",
      "7\n",
      "30\n",
      "3.3333333333333335\n",
      "3\n",
      "1\n",
      "1000\n"
     ]
    }
   ],
   "source": [
    "x = 10\n",
    "y = 3\n",
    "\n",
    "print(x + y)          # output : 13\n",
    "print(x - y)          # output : 7\n",
    "print(x * y)          # output : 30\n",
    "print(x / y)          # output : 3.3333333333333335\n",
    "print(x // y)         # output : 3\n",
    "print(x % y)          # output : 1\n",
    "print(x ** y)         # output : 1000"
   ]
  },
  {
   "cell_type": "markdown",
   "id": "5ee1e07d-325c-4191-87f3-197124772a02",
   "metadata": {},
   "source": [
    "### logical operators"
   ]
  },
  {
   "cell_type": "code",
   "execution_count": 122,
   "id": "37597c66-2fa9-49d2-8b5b-a58eeefd10e2",
   "metadata": {},
   "outputs": [
    {
     "name": "stdout",
     "output_type": "stream",
     "text": [
      "False\n",
      "True\n",
      "False\n"
     ]
    }
   ],
   "source": [
    "a = True\n",
    "b = False\n",
    "\n",
    "print(a and b)        # Output : False\n",
    "print(a or b)         # Output : True\n",
    "print(not a)          # Output : False"
   ]
  },
  {
   "cell_type": "markdown",
   "id": "bd34dcc6-5781-4ea3-8e55-2222b248a38a",
   "metadata": {},
   "source": [
    "### Comparison operators"
   ]
  },
  {
   "cell_type": "code",
   "execution_count": 124,
   "id": "b74e0a00-d64e-4e81-8cbc-3a8c39a89024",
   "metadata": {},
   "outputs": [
    {
     "name": "stdout",
     "output_type": "stream",
     "text": [
      "False\n",
      "True\n",
      "False\n",
      "True\n",
      "False\n",
      "True\n"
     ]
    }
   ],
   "source": [
    "a = 5\n",
    "b = 10\n",
    "\n",
    "print(a == b)        # Output : False\n",
    "print(a != b)        # Output : True\n",
    "print(a > b)         # Output : False\n",
    "print(a < b)         # Output : True\n",
    "print(a >= b)        # Output : False\n",
    "print(a <= b)        # Output : True"
   ]
  },
  {
   "cell_type": "markdown",
   "id": "46c3f53a-0270-4ebb-8f2c-0a3e7304a2d0",
   "metadata": {},
   "source": [
    "### Assignment operators"
   ]
  },
  {
   "cell_type": "code",
   "execution_count": 130,
   "id": "93865bbc-63a7-412d-9d4e-2ea53898f4c2",
   "metadata": {},
   "outputs": [
    {
     "name": "stdout",
     "output_type": "stream",
     "text": [
      "13\n",
      "10\n",
      "40\n",
      "20.0\n",
      "2.0\n",
      "2.0\n",
      "16.0\n"
     ]
    }
   ],
   "source": [
    "x = 10\n",
    "\n",
    "x += 3  \n",
    "print(x)           # output : 13\n",
    "\n",
    "x -= 3\n",
    "print(x)           # output : 10\n",
    "\n",
    "x *= 4\n",
    "print(x)           # output : 40\n",
    "\n",
    "x /= 2\n",
    "print(x)           # output : 20.0\n",
    "\n",
    "x //= 7\n",
    "print(x)           # output : 2.0\n",
    "\n",
    "x %= 5\n",
    "print(x)           # output : 2.0\n",
    "\n",
    "x **= 4\n",
    "print(x)           # output : 16.0"
   ]
  },
  {
   "cell_type": "markdown",
   "id": "79ba362b-2cad-435c-b561-529fe70c4ba9",
   "metadata": {},
   "source": [
    "### In class task"
   ]
  },
  {
   "cell_type": "code",
   "execution_count": 156,
   "id": "9cbed19d-c994-4ea2-b150-94e31f663682",
   "metadata": {},
   "outputs": [
    {
     "name": "stdout",
     "output_type": "stream",
     "text": [
      "30\n"
     ]
    }
   ],
   "source": [
    "# Q3\n",
    "\n",
    "first_val = 10\n",
    "sec_val = 20\n",
    "operator = \"+\"\n",
    "\n",
    "if operator == \"+\":\n",
    "    print (first_val + sec_val)\n",
    "elif operator == \"-\":\n",
    "    print (first_val - sec_val)\n",
    "elif operator == \"*\":\n",
    "    print (first_val * sec_val)\n",
    "elif operator == \"/\":\n",
    "    print (first_val / sec_val)"
   ]
  },
  {
   "cell_type": "code",
   "execution_count": 154,
   "id": "d41cd7b9-54eb-46d4-bac5-8db7c565fd6a",
   "metadata": {},
   "outputs": [
    {
     "name": "stdout",
     "output_type": "stream",
     "text": [
      "30\n"
     ]
    }
   ],
   "source": [
    "first_val = \"10\"\n",
    "sec_val = \"20\"\n",
    "operator = \"+\"\n",
    "\n",
    "print(eval(first_val + operator + sec_val))"
   ]
  },
  {
   "cell_type": "code",
   "execution_count": 140,
   "id": "fbd3c2c9-3958-422a-bb81-63d70d45ed40",
   "metadata": {},
   "outputs": [
    {
     "name": "stdin",
     "output_type": "stream",
     "text": [
      "Enter your name :  dew\n",
      "Enter your age :  19\n"
     ]
    },
    {
     "name": "stdout",
     "output_type": "stream",
     "text": [
      "Hello, dew! you are 19 years old.\n"
     ]
    }
   ],
   "source": [
    "# Q4\n",
    "\n",
    "name = input(\"Enter your name : \")\n",
    "age = input(\"Enter your age : \")\n",
    "\n",
    "print(f\"Hello, {name}! you are {age} years old.\")"
   ]
  },
  {
   "cell_type": "code",
   "execution_count": 146,
   "id": "43d83564-22db-4f53-bf2d-3bd1d4a58fc5",
   "metadata": {},
   "outputs": [
    {
     "name": "stdin",
     "output_type": "stream",
     "text": [
      "your first name :  dew\n",
      "your last name :  mihi\n",
      "your city :  g\n"
     ]
    },
    {
     "name": "stdout",
     "output_type": "stream",
     "text": [
      "full name : dew mihi\n",
      "City : g\n"
     ]
    }
   ],
   "source": [
    "# Q5\n",
    "\n",
    "first_name = input(\"your first name : \")\n",
    "last_name = input(\"your last name : \")\n",
    "city = input(\"your city : \")\n",
    "\n",
    "print(\"full name : \"+ first_name +\" \"+ last_name)\n",
    "print(\"City : \"+city)"
   ]
  },
  {
   "cell_type": "markdown",
   "id": "7620243e-726e-459b-a536-ebaf08d88c7e",
   "metadata": {},
   "source": [
    "### elif statement"
   ]
  },
  {
   "cell_type": "code",
   "execution_count": null,
   "id": "7f235c20-fa0c-4fd7-b901-43a8658819b6",
   "metadata": {},
   "outputs": [],
   "source": [
    "if condition:\n",
    "    # code execute if statement is true\n",
    "elif condition2:\n",
    "    # code execute elif statement is true\n",
    "else:\n",
    "    # code execute else statement is true"
   ]
  },
  {
   "cell_type": "markdown",
   "id": "7869fb2e-3074-4380-83f8-852775be1451",
   "metadata": {},
   "source": [
    "### nested if-else"
   ]
  },
  {
   "cell_type": "code",
   "execution_count": null,
   "id": "5eaf0a06-0da9-4068-89dc-35f8403d6280",
   "metadata": {},
   "outputs": [],
   "source": [
    "if condition1:\n",
    "    # code execute if statement is true\n",
    "    if condition1:\n",
    "        # code execute condition1 if statement and condition2 if statement is true\n",
    "    else:\n",
    "        # code execute condition1 if statement and condition2 if statement is false\n",
    "else:\n",
    "    # code execute if statement is false"
   ]
  },
  {
   "cell_type": "markdown",
   "id": "08d04dc0-13fa-4ec8-a6b4-73b6617de193",
   "metadata": {},
   "source": [
    "### In class task"
   ]
  },
  {
   "cell_type": "code",
   "execution_count": 170,
   "id": "9ef34df1-695a-44f2-bdab-b63905d6e836",
   "metadata": {},
   "outputs": [
    {
     "name": "stdout",
     "output_type": "stream",
     "text": [
      "not a leap year\n"
     ]
    }
   ],
   "source": [
    "# Q6\n",
    "\n",
    "year = 2021\n",
    "\n",
    "if year % 4 == 0:\n",
    "    print(\"leap year\")\n",
    "else:\n",
    "    print(\"not a leap year\")"
   ]
  },
  {
   "cell_type": "markdown",
   "id": "300044a6-e6f1-41da-b5eb-96aaee2b2c99",
   "metadata": {},
   "source": [
    "## Loops"
   ]
  },
  {
   "cell_type": "markdown",
   "id": "ac4a0ef0-41c8-4217-a214-be6515f8fc2d",
   "metadata": {},
   "source": [
    "### for loops"
   ]
  },
  {
   "cell_type": "code",
   "execution_count": null,
   "id": "5b8c17c2-aa5f-4142-87b5-61423324aa98",
   "metadata": {},
   "outputs": [],
   "source": [
    "for item in sequence:\n",
    "    # code to be executed for each item"
   ]
  },
  {
   "cell_type": "code",
   "execution_count": 174,
   "id": "b410b66f-9de4-4a15-858f-bababdaa5c69",
   "metadata": {},
   "outputs": [
    {
     "name": "stdout",
     "output_type": "stream",
     "text": [
      "1\n",
      "2\n",
      "3\n",
      "4\n",
      "5\n",
      "6\n",
      "7\n",
      "8\n",
      "9\n",
      "10\n"
     ]
    }
   ],
   "source": [
    "for i in range(1,11):\n",
    "    print(i) "
   ]
  },
  {
   "cell_type": "markdown",
   "id": "bb74c0f8-b305-4bc8-b6a5-dbb9702635b0",
   "metadata": {},
   "source": [
    "### while loops"
   ]
  },
  {
   "cell_type": "code",
   "execution_count": 176,
   "id": "aca20b99-739d-4703-a21b-07846006092b",
   "metadata": {},
   "outputs": [
    {
     "name": "stdout",
     "output_type": "stream",
     "text": [
      "0\n",
      "1\n",
      "2\n",
      "3\n",
      "4\n"
     ]
    }
   ],
   "source": [
    "count =0\n",
    "while count <5:\n",
    "    print(count)\n",
    "    count += 1"
   ]
  },
  {
   "cell_type": "markdown",
   "id": "31c66799-1165-4952-b48b-b14df2aedae3",
   "metadata": {},
   "source": [
    "### break"
   ]
  },
  {
   "cell_type": "code",
   "execution_count": 178,
   "id": "98e333db-a311-472d-8274-64542e8d8ee3",
   "metadata": {},
   "outputs": [
    {
     "name": "stdout",
     "output_type": "stream",
     "text": [
      "1\n",
      "2\n",
      "3\n",
      "4\n"
     ]
    }
   ],
   "source": [
    "for i in range(1,11):\n",
    "    if i == 5:\n",
    "        break\n",
    "    print(i) "
   ]
  },
  {
   "cell_type": "markdown",
   "id": "147f4b94-1b75-499f-8232-2551e4ad9ae1",
   "metadata": {},
   "source": [
    "### continue"
   ]
  },
  {
   "cell_type": "code",
   "execution_count": 184,
   "id": "1d888f88-8f91-425b-815d-316405c0163f",
   "metadata": {},
   "outputs": [
    {
     "name": "stdout",
     "output_type": "stream",
     "text": [
      "1\n",
      "3\n",
      "5\n",
      "7\n",
      "9\n"
     ]
    }
   ],
   "source": [
    "for i in range(1,11):\n",
    "    if i % 2 == 0:\n",
    "        continue\n",
    "    print(i) "
   ]
  },
  {
   "cell_type": "markdown",
   "id": "749665fb-2e76-4c1b-9ae3-1cae4298cfa4",
   "metadata": {},
   "source": [
    "### else in loop"
   ]
  },
  {
   "cell_type": "code",
   "execution_count": 190,
   "id": "e74fa582-f472-4c47-964e-8bbc11b19447",
   "metadata": {},
   "outputs": [
    {
     "name": "stdout",
     "output_type": "stream",
     "text": [
      "1\n",
      "2\n",
      "3\n",
      "4\n",
      "5\n",
      "6\n",
      "7\n",
      "8\n",
      "9\n",
      "10\n",
      "loop is complete\n"
     ]
    }
   ],
   "source": [
    "for i in range(1,11):\n",
    "    print(i) \n",
    "else:\n",
    "    print(\"loop is complete\")"
   ]
  },
  {
   "cell_type": "code",
   "execution_count": 192,
   "id": "b4233e30-cb6f-49c3-839d-d048b4e487db",
   "metadata": {},
   "outputs": [
    {
     "name": "stdout",
     "output_type": "stream",
     "text": [
      "*\n",
      "**\n",
      "***\n",
      "****\n",
      "*****\n",
      "******\n",
      "*******\n",
      "********\n",
      "*********\n",
      "**********\n"
     ]
    }
   ],
   "source": [
    "for i in range (1, 11):\n",
    "    print (\"*\" * i)"
   ]
  },
  {
   "cell_type": "code",
   "execution_count": 202,
   "id": "fdec83d5-aeff-4d72-aca0-a624d4b938fe",
   "metadata": {},
   "outputs": [
    {
     "name": "stdout",
     "output_type": "stream",
     "text": [
      "***********\n",
      "**********\n",
      "*********\n",
      "********\n",
      "*******\n",
      "******\n",
      "*****\n",
      "****\n",
      "***\n",
      "**\n",
      "*\n"
     ]
    }
   ],
   "source": [
    "for i in range (11,0,-1):\n",
    "    print (\"*\" * i)"
   ]
  },
  {
   "cell_type": "code",
   "execution_count": 206,
   "id": "be416cc0-7f0f-4bec-baa3-9b812d17573b",
   "metadata": {},
   "outputs": [
    {
     "name": "stdout",
     "output_type": "stream",
     "text": [
      "***********\n",
      "**********\n",
      "*********\n",
      "********\n",
      "*******\n",
      "******\n",
      "*****\n",
      "****\n",
      "***\n",
      "**\n",
      "*\n",
      "**\n",
      "***\n",
      "****\n",
      "*****\n",
      "******\n",
      "*******\n",
      "********\n",
      "*********\n",
      "**********\n"
     ]
    }
   ],
   "source": [
    "for i in range (11,1,-1):\n",
    "    print (\"*\" * i)\n",
    "for i in range (1, 11):\n",
    "    print (\"*\" * i)"
   ]
  },
  {
   "cell_type": "markdown",
   "id": "d8004081-aa6a-4392-9fbe-63490f2a4a3c",
   "metadata": {},
   "source": [
    "### functions"
   ]
  },
  {
   "cell_type": "code",
   "execution_count": 208,
   "id": "827020ac-8fe9-4837-9a46-ebd41b507f12",
   "metadata": {},
   "outputs": [
    {
     "name": "stdout",
     "output_type": "stream",
     "text": [
      "hello, sunil!\n"
     ]
    }
   ],
   "source": [
    "def greet(name):\n",
    "    return f\"hello, {name}!\"\n",
    "\n",
    "print(greet(\"sunil\"))"
   ]
  },
  {
   "cell_type": "markdown",
   "id": "6b21ea53-9c1a-45af-a9bf-141278531887",
   "metadata": {},
   "source": [
    "### In class task"
   ]
  },
  {
   "cell_type": "code",
   "execution_count": 216,
   "id": "18605ee3-56cb-4b0e-9200-13fc6b654d50",
   "metadata": {},
   "outputs": [
    {
     "name": "stdin",
     "output_type": "stream",
     "text": [
      "first no :  9\n",
      "second no :  1\n",
      "operator :  +\n"
     ]
    },
    {
     "name": "stdout",
     "output_type": "stream",
     "text": [
      "10\n"
     ]
    }
   ],
   "source": [
    "def calculator(val1, val2, op):\n",
    "    return eval(val1 + op + val2)\n",
    "\n",
    "\n",
    "first_val = input(\"first no : \")\n",
    "sec_val = input(\"second no : \")\n",
    "operator = input(\"operator : \")\n",
    "\n",
    "print(calculator(first_val, sec_val, operator))"
   ]
  },
  {
   "cell_type": "markdown",
   "id": "a6c057c5-fd21-497f-a506-fcf02cccf4df",
   "metadata": {},
   "source": [
    "### infinity loop"
   ]
  },
  {
   "cell_type": "code",
   "execution_count": null,
   "id": "4eb3a52b-264d-41a0-8de7-ea061c4a3ee6",
   "metadata": {},
   "outputs": [],
   "source": [
    "def loopdef():\n",
    "    while True:\n",
    "        print(\"aa\")\n",
    "        break\n",
    "\n",
    "if _name_ == \"_main_\":\n",
    "    loopdef()"
   ]
  },
  {
   "cell_type": "markdown",
   "id": "600ebe00-ba22-4938-a28e-c75f68893d49",
   "metadata": {},
   "source": [
    "## importing modules"
   ]
  },
  {
   "cell_type": "markdown",
   "id": "97c4c9e8-8815-4d2c-a1d5-56621335682b",
   "metadata": {},
   "source": [
    "### simulise dice rolling"
   ]
  },
  {
   "cell_type": "code",
   "execution_count": 231,
   "id": "8a0632a2-b894-4d43-a83c-21f168d9ce04",
   "metadata": {},
   "outputs": [
    {
     "name": "stdout",
     "output_type": "stream",
     "text": [
      "You rolled ;  1\n"
     ]
    }
   ],
   "source": [
    "import random\n",
    "\n",
    "def roll_dice():\n",
    "    \"\"\" simulize dice \"\"\"\n",
    "    return random.randint(1,6)\n",
    "\n",
    "result = roll_dice();\n",
    "\n",
    "print(\"You rolled ; \" , result)"
   ]
  },
  {
   "cell_type": "markdown",
   "id": "20052780-43be-42c9-bf6f-664670390b83",
   "metadata": {},
   "source": [
    "## exeption handling"
   ]
  },
  {
   "cell_type": "markdown",
   "id": "4ad3fbdd-d2b6-4909-b795-1686b6d489ce",
   "metadata": {},
   "source": [
    "### try, except, finaly "
   ]
  },
  {
   "cell_type": "code",
   "execution_count": 233,
   "id": "debdbddb-e2c5-4185-9585-a1328067bb58",
   "metadata": {},
   "outputs": [
    {
     "name": "stdin",
     "output_type": "stream",
     "text": [
      "Enter a number :  60\n",
      "Enter denominator :  9\n"
     ]
    },
    {
     "name": "stdout",
     "output_type": "stream",
     "text": [
      "result  6.666666666666667\n",
      "operation complete\n"
     ]
    }
   ],
   "source": [
    "try:\n",
    "    numarator = int(input(\"Enter a number : \"))\n",
    "    denominator = int(input(\"Enter denominator : \"))\n",
    "    result = numarator/denominator\n",
    "    print(\"result \", result)\n",
    "except ZeroDivisionError:\n",
    "    print(\"Error: division by zero in not allowed\")\n",
    "finally:\n",
    "    print(\"operation complete\")"
   ]
  },
  {
   "cell_type": "code",
   "execution_count": 235,
   "id": "11e42aa5-0d3d-4e23-837f-8c5e1177ce2b",
   "metadata": {},
   "outputs": [
    {
     "name": "stdin",
     "output_type": "stream",
     "text": [
      "Enter a number :  6\n"
     ]
    },
    {
     "name": "stdout",
     "output_type": "stream",
     "text": [
      "You entered:  6.0\n"
     ]
    }
   ],
   "source": [
    "while True:\n",
    "    try:\n",
    "        number = float(input(\"Enter a number : \"))\n",
    "        break\n",
    "    except ValueError:\n",
    "        print(\"Invalied input. Please enter a number\")\n",
    "print(\"You entered: \", number)"
   ]
  },
  {
   "cell_type": "markdown",
   "id": "f765dd06-92a5-4b29-8378-c13a32d0198d",
   "metadata": {},
   "source": [
    "## Read files"
   ]
  },
  {
   "cell_type": "code",
   "execution_count": 265,
   "id": "b995fba0-067e-42bb-8569-d8216e0c100f",
   "metadata": {},
   "outputs": [
    {
     "name": "stdout",
     "output_type": "stream",
     "text": [
      "file writing 123\n"
     ]
    }
   ],
   "source": [
    "file_object = open(\"filename.txt\",\"r\")\n",
    "content = file_object.read()\n",
    "print(content)\n",
    "\n",
    "file_object.close()"
   ]
  },
  {
   "cell_type": "markdown",
   "id": "53dfec7f-6ed4-4591-b5a8-d47d188dd5e4",
   "metadata": {},
   "source": [
    "### opening a file"
   ]
  },
  {
   "cell_type": "code",
   "execution_count": null,
   "id": "9ad2e94a-5802-403a-8c59-4687595b46fc",
   "metadata": {},
   "outputs": [],
   "source": [
    "file_object = open(\"filename.txt\",\"r\")"
   ]
  },
  {
   "cell_type": "markdown",
   "id": "bd49066e-d709-4b9e-81fb-0dae63bd5581",
   "metadata": {},
   "source": [
    "### reading a file"
   ]
  },
  {
   "cell_type": "code",
   "execution_count": null,
   "id": "28dd942a-341e-4f04-b774-13f1ed399aa4",
   "metadata": {},
   "outputs": [],
   "source": [
    "content = file_object.read()"
   ]
  },
  {
   "cell_type": "markdown",
   "id": "9b075697-2734-4bdf-b02c-fff7d0dcbc32",
   "metadata": {},
   "source": [
    "### closing a file"
   ]
  },
  {
   "cell_type": "code",
   "execution_count": null,
   "id": "1dd17615-737f-4881-bbcd-e72e9b2f25e8",
   "metadata": {},
   "outputs": [],
   "source": [
    "file_object.close()"
   ]
  },
  {
   "cell_type": "markdown",
   "id": "ce2cd759-8c83-4746-b0fb-27fcaff62c96",
   "metadata": {},
   "source": [
    "## Write a file"
   ]
  },
  {
   "cell_type": "code",
   "execution_count": 262,
   "id": "524b1863-ffae-44a8-9c7a-ebc10b8c43ce",
   "metadata": {},
   "outputs": [],
   "source": [
    "file_object = open(\"filename.txt\",\"w\")\n",
    "file_object.write(\"file writing 123\")\n",
    "\n",
    "# must have to close. if not close this it didnt write\n",
    "file_object.close()"
   ]
  },
  {
   "cell_type": "markdown",
   "id": "ec548c23-959e-487c-b1ae-2c2b1a2c9999",
   "metadata": {},
   "source": [
    "### In class task"
   ]
  },
  {
   "cell_type": "code",
   "execution_count": 283,
   "id": "0f328c88-be28-47df-a587-6949f929f37c",
   "metadata": {},
   "outputs": [
    {
     "name": "stdout",
     "output_type": "stream",
     "text": [
      "Content of the file :  Hello World.\n",
      "word count in the content :  2\n"
     ]
    }
   ],
   "source": [
    "# Q10\n",
    "\n",
    "try:\n",
    "    file_object = open(\"filename.txt\",\"r\")\n",
    "    content = file_object.read()\n",
    "    file_object.close()\n",
    "    \n",
    "    word_count = content.split(\" \")\n",
    "    \n",
    "    print(\"Content of the file : \",content)\n",
    "    print(\"word count in the content : \",len(word_count))\n",
    "    \n",
    "except FileNotFoundError:\n",
    "    print(\"file input not found\")"
   ]
  },
  {
   "cell_type": "code",
   "execution_count": null,
   "id": "555fd162-ff32-4394-a27d-3dff039ddbde",
   "metadata": {},
   "outputs": [],
   "source": []
  }
 ],
 "metadata": {
  "kernelspec": {
   "display_name": "Python [conda env:base] *",
   "language": "python",
   "name": "conda-base-py"
  },
  "language_info": {
   "codemirror_mode": {
    "name": "ipython",
    "version": 3
   },
   "file_extension": ".py",
   "mimetype": "text/x-python",
   "name": "python",
   "nbconvert_exporter": "python",
   "pygments_lexer": "ipython3",
   "version": "3.12.7"
  }
 },
 "nbformat": 4,
 "nbformat_minor": 5
}
